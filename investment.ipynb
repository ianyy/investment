{
 "cells": [
  {
   "cell_type": "code",
   "execution_count": null,
   "metadata": {},
   "outputs": [],
   "source": [
    "import pandas as pd\n",
    "import numpy as np\n",
    "from yahoofinancials import YahooFinancials"
   ]
  },
  {
   "cell_type": "code",
   "execution_count": null,
   "metadata": {},
   "outputs": [],
   "source": [
    "def get_price_table(ticker, start_date, end_date, frequency):\n",
    "    yahoo_financials = YahooFinancials(ticker)\n",
    "    df = pd.DataFrame(yahoo_financials.get_historical_price_data(\n",
    "        start_date, end_date, frequency)[ticker]['prices'])\n",
    "    df['formatted_date'] = pd.to_datetime(df['formatted_date'])\n",
    "    df.set_index('formatted_date', inplace=True)\n",
    "    df.index.name = 'date'\n",
    "    return df"
   ]
  },
  {
   "cell_type": "code",
   "execution_count": null,
   "metadata": {},
   "outputs": [],
   "source": [
    "ticker_US = 'SPY'\n",
    "ticker_HK = '2800.HK'\n",
    "start_date = '2015-01-01'\n",
    "end_date = '2019-12-31'\n",
    "frequency = 'daily'\n",
    "weight_US = 0.8\n",
    "weight_HK = 1-weight_US"
   ]
  },
  {
   "cell_type": "code",
   "execution_count": null,
   "metadata": {},
   "outputs": [],
   "source": [
    "df_US = get_price_table(ticker_US, start_date, end_date, frequency)\n",
    "df_HK = get_price_table(ticker_HK, start_date, end_date, frequency)"
   ]
  },
  {
   "cell_type": "code",
   "execution_count": null,
   "metadata": {},
   "outputs": [],
   "source": [
    "df = (pd.merge(df_US, df_HK, how='outer', left_index=True,\n",
    "               right_index=True, suffixes=('_US', '_HK'))\n",
    "      [['adjclose_US', 'adjclose_HK']].fillna(method='ffill'))"
   ]
  },
  {
   "cell_type": "code",
   "execution_count": null,
   "metadata": {},
   "outputs": [],
   "source": [
    "df['price_weighted'] = weight_US * df['adjclose_US']+weight_HK*df['adjclose_HK']"
   ]
  },
  {
   "cell_type": "code",
   "execution_count": null,
   "metadata": {},
   "outputs": [],
   "source": [
    "df[['log_price_US', 'log_price_HK', 'log_price_weighted']] = df[['adjclose_US', 'adjclose_HK', 'price_weighted']].applymap(np.log)"
   ]
  },
  {
   "cell_type": "code",
   "execution_count": null,
   "metadata": {},
   "outputs": [],
   "source": [
    "df[['log_return_US', 'log_return_HK', 'log_return_weighted']] = df[['log_price_US', 'log_price_HK', 'log_price_weighted']].diff()"
   ]
  },
  {
   "cell_type": "code",
   "execution_count": null,
   "metadata": {},
   "outputs": [],
   "source": [
    "mean_return = df[['log_return_US',\n",
    "                  'log_return_HK', 'log_return_weighted']].mean()\n",
    "vol_return = df[['log_return_US',\n",
    "                 'log_return_HK', 'log_return_weighted']].std()"
   ]
  },
  {
   "cell_type": "code",
   "execution_count": null,
   "metadata": {},
   "outputs": [],
   "source": [
    "sharpe_ratio = mean_return/vol_return"
   ]
  },
  {
   "cell_type": "code",
   "execution_count": null,
   "metadata": {},
   "outputs": [],
   "source": [
    "corr = df['log_return_US'].corr(df['log_return_HK'])"
   ]
  },
  {
   "cell_type": "code",
   "execution_count": null,
   "metadata": {},
   "outputs": [],
   "source": [
    "stats_sharpe = pd.DataFrame({'return_mean': mean_return,\n",
    "                             'return_volatility': vol_return, 'sharpe_ratio': sharpe_ratio})"
   ]
  }
 ],
 "metadata": {
  "kernelspec": {
   "display_name": "Python 3",
   "language": "python",
   "name": "python3"
  },
  "language_info": {
   "codemirror_mode": {
    "name": "ipython",
    "version": 3
   },
   "file_extension": ".py",
   "mimetype": "text/x-python",
   "name": "python",
   "nbconvert_exporter": "python",
   "pygments_lexer": "ipython3",
   "version": "3.7.1"
  }
 },
 "nbformat": 4,
 "nbformat_minor": 2
}
